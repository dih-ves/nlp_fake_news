{
 "cells": [
  {
   "cell_type": "code",
   "execution_count": 2,
   "metadata": {},
   "outputs": [],
   "source": [
    "import nltk\n",
    "from nltk.tokenize import sent_tokenize, word_tokenize\n",
    "from nltk.corpus import stopwords\n",
    "from collections import Counter # Contabilizar as repeticoes de palavras nas frases"
   ]
  },
  {
   "cell_type": "code",
   "execution_count": 3,
   "metadata": {},
   "outputs": [
    {
     "name": "stderr",
     "output_type": "stream",
     "text": [
      "[nltk_data] Downloading package punkt to /home/kali/nltk_data...\n",
      "[nltk_data]   Package punkt is already up-to-date!\n",
      "[nltk_data] Downloading package stopwords to /home/kali/nltk_data...\n",
      "[nltk_data]   Package stopwords is already up-to-date!\n"
     ]
    },
    {
     "data": {
      "text/plain": [
       "True"
      ]
     },
     "execution_count": 3,
     "metadata": {},
     "output_type": "execute_result"
    }
   ],
   "source": [
    "nltk.download('punkt')\n",
    "nltk.download('stopwords')"
   ]
  },
  {
   "cell_type": "code",
   "execution_count": 4,
   "metadata": {},
   "outputs": [],
   "source": [
    "def sumario(texto, num_sent=10):\n",
    "  # Tokenizar o texto em frases e palavras\n",
    "  sentences = sent_tokenize(texto)\n",
    "  print(f'Quantidade de Paragrafos do Texto:{len(sentences)}')\n",
    "  words = word_tokenize(texto.lower())\n",
    "\n",
    "  #Remover stopwords\n",
    "  stop_words = set(stopwords.words('portuguese'))\n",
    "  words = [word for word in words if word not in stop_words]\n",
    "\n",
    "  # Calculo da frequencia de cada palavra\n",
    "  word_freq = Counter(words)\n",
    "\n",
    "  # Calcular a pontuacao de cada frase com base na frequencia de suas palavraas\n",
    "  sentence_scores = {sentence: sum(word_freq[word] for word in word_tokenize(sentence.lower())) for sentence in sentences}\n",
    "\n",
    "  # Se não houver frases  suficientes, apenas retorno o texto original\n",
    "  if len(sentences) <= num_sent:\n",
    "    return texto\n",
    "  # Selecionar as principais frases com base na sua pontuação e gerar o resumo\n",
    "  summary = ' '.join(sorted(sentence_scores, key=sentence_scores.get, reverse=True)[:num_sent])\n",
    "  return summary"
   ]
  },
  {
   "cell_type": "code",
   "execution_count": null,
   "metadata": {},
   "outputs": [],
   "source": []
  },
  {
   "cell_type": "code",
   "execution_count": null,
   "metadata": {},
   "outputs": [],
   "source": []
  },
  {
   "cell_type": "code",
   "execution_count": null,
   "metadata": {},
   "outputs": [],
   "source": []
  },
  {
   "cell_type": "code",
   "execution_count": null,
   "metadata": {},
   "outputs": [],
   "source": []
  }
 ],
 "metadata": {
  "kernelspec": {
   "display_name": "Python 3",
   "language": "python",
   "name": "python3"
  },
  "language_info": {
   "codemirror_mode": {
    "name": "ipython",
    "version": 3
   },
   "file_extension": ".py",
   "mimetype": "text/x-python",
   "name": "python",
   "nbconvert_exporter": "python",
   "pygments_lexer": "ipython3",
   "version": "3.11.6"
  },
  "orig_nbformat": 4
 },
 "nbformat": 4,
 "nbformat_minor": 2
}
